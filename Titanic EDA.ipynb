{
 "cells": [
  {
   "cell_type": "markdown",
   "id": "4e05c275",
   "metadata": {},
   "source": [
    "# Titanic EDA"
   ]
  },
  {
   "cell_type": "markdown",
   "id": "ee4ab535",
   "metadata": {},
   "source": [
    "![alt](https://ipla.pluscdn.pl/dituel/cp/ow/owwqyppqja265g74vrfpzrff5cg5yeux.jpg)"
   ]
  },
  {
   "cell_type": "markdown",
   "id": "ffdb7df8",
   "metadata": {},
   "source": [
    "## Import bibliotek"
   ]
  },
  {
   "cell_type": "code",
   "execution_count": 2,
   "id": "b3e053f4",
   "metadata": {},
   "outputs": [],
   "source": [
    "import pandas as pd\n",
    "import numpy as np \n",
    "import matplotlib.pyplot as plt\n",
    "import seaborn as sns\n",
    "from datetime import datetime\n",
    "import datetime as dt"
   ]
  },
  {
   "cell_type": "markdown",
   "id": "cc552801",
   "metadata": {},
   "source": [
    "## Import danych i podstawowe informacje"
   ]
  },
  {
   "cell_type": "code",
   "execution_count": 3,
   "id": "945b5a92",
   "metadata": {},
   "outputs": [],
   "source": [
    "df = pd.read_csv(\"data/titanic.csv\", sep= \";\")"
   ]
  },
  {
   "cell_type": "code",
   "execution_count": 4,
   "id": "f6941c89",
   "metadata": {},
   "outputs": [
    {
     "data": {
      "text/html": [
       "<div>\n",
       "<style scoped>\n",
       "    .dataframe tbody tr th:only-of-type {\n",
       "        vertical-align: middle;\n",
       "    }\n",
       "\n",
       "    .dataframe tbody tr th {\n",
       "        vertical-align: top;\n",
       "    }\n",
       "\n",
       "    .dataframe thead th {\n",
       "        text-align: right;\n",
       "    }\n",
       "</style>\n",
       "<table border=\"1\" class=\"dataframe\">\n",
       "  <thead>\n",
       "    <tr style=\"text-align: right;\">\n",
       "      <th></th>\n",
       "      <th>pclass</th>\n",
       "      <th>survived</th>\n",
       "      <th>name</th>\n",
       "      <th>sex</th>\n",
       "      <th>age</th>\n",
       "      <th>sibsp</th>\n",
       "      <th>parch</th>\n",
       "      <th>ticket</th>\n",
       "      <th>fare</th>\n",
       "      <th>cabin</th>\n",
       "      <th>embarked</th>\n",
       "      <th>boat</th>\n",
       "      <th>body</th>\n",
       "      <th>home.dest</th>\n",
       "    </tr>\n",
       "  </thead>\n",
       "  <tbody>\n",
       "    <tr>\n",
       "      <th>0</th>\n",
       "      <td>1</td>\n",
       "      <td>1</td>\n",
       "      <td>Allen, Miss. Elisabeth Walton</td>\n",
       "      <td>female</td>\n",
       "      <td>29</td>\n",
       "      <td>0.0</td>\n",
       "      <td>0</td>\n",
       "      <td>24160</td>\n",
       "      <td>2.113.375</td>\n",
       "      <td>B5</td>\n",
       "      <td>S</td>\n",
       "      <td>2</td>\n",
       "      <td>NaN</td>\n",
       "      <td>USA</td>\n",
       "    </tr>\n",
       "    <tr>\n",
       "      <th>1</th>\n",
       "      <td>1</td>\n",
       "      <td>1</td>\n",
       "      <td>Allison, Master. Hudson Trevor</td>\n",
       "      <td>male</td>\n",
       "      <td>0,92</td>\n",
       "      <td>1.0</td>\n",
       "      <td>2</td>\n",
       "      <td>113781</td>\n",
       "      <td>151.55</td>\n",
       "      <td>C22 C26</td>\n",
       "      <td>S</td>\n",
       "      <td>11</td>\n",
       "      <td>NaN</td>\n",
       "      <td>CANADA</td>\n",
       "    </tr>\n",
       "    <tr>\n",
       "      <th>2</th>\n",
       "      <td>1</td>\n",
       "      <td>0</td>\n",
       "      <td>Allison, Miss. Helen Loraine</td>\n",
       "      <td>female</td>\n",
       "      <td>2</td>\n",
       "      <td>1.0</td>\n",
       "      <td>2</td>\n",
       "      <td>113781</td>\n",
       "      <td>151.55</td>\n",
       "      <td>C22 C26</td>\n",
       "      <td>S</td>\n",
       "      <td>NaN</td>\n",
       "      <td>NaN</td>\n",
       "      <td>CANADA</td>\n",
       "    </tr>\n",
       "    <tr>\n",
       "      <th>3</th>\n",
       "      <td>1</td>\n",
       "      <td>0</td>\n",
       "      <td>Allison, Mr. Hudson Joshua Creighton</td>\n",
       "      <td>male</td>\n",
       "      <td>30</td>\n",
       "      <td>1.0</td>\n",
       "      <td>2</td>\n",
       "      <td>113781</td>\n",
       "      <td>151.55</td>\n",
       "      <td>C22 C26</td>\n",
       "      <td>S</td>\n",
       "      <td>NaN</td>\n",
       "      <td>135.0</td>\n",
       "      <td>CANADA</td>\n",
       "    </tr>\n",
       "    <tr>\n",
       "      <th>4</th>\n",
       "      <td>1</td>\n",
       "      <td>0</td>\n",
       "      <td>Allison, Mrs. Hudson J C (Bessie Waldo Daniels)</td>\n",
       "      <td>female</td>\n",
       "      <td>25</td>\n",
       "      <td>1.0</td>\n",
       "      <td>2</td>\n",
       "      <td>113781</td>\n",
       "      <td>151.55</td>\n",
       "      <td>C22 C26</td>\n",
       "      <td>S</td>\n",
       "      <td>NaN</td>\n",
       "      <td>NaN</td>\n",
       "      <td>CANADA</td>\n",
       "    </tr>\n",
       "    <tr>\n",
       "      <th>5</th>\n",
       "      <td>1</td>\n",
       "      <td>1</td>\n",
       "      <td>Anderson, Mr. Harry</td>\n",
       "      <td>male</td>\n",
       "      <td>48</td>\n",
       "      <td>0.0</td>\n",
       "      <td>0</td>\n",
       "      <td>19952</td>\n",
       "      <td>26.55</td>\n",
       "      <td>E12</td>\n",
       "      <td>S</td>\n",
       "      <td>3</td>\n",
       "      <td>NaN</td>\n",
       "      <td>USA</td>\n",
       "    </tr>\n",
       "    <tr>\n",
       "      <th>6</th>\n",
       "      <td>1</td>\n",
       "      <td>1</td>\n",
       "      <td>Andrews, Miss. Kornelia Theodosia</td>\n",
       "      <td>female</td>\n",
       "      <td>63</td>\n",
       "      <td>1.0</td>\n",
       "      <td>0</td>\n",
       "      <td>13502</td>\n",
       "      <td>779.583</td>\n",
       "      <td>D7</td>\n",
       "      <td>S</td>\n",
       "      <td>10</td>\n",
       "      <td>NaN</td>\n",
       "      <td>USA</td>\n",
       "    </tr>\n",
       "    <tr>\n",
       "      <th>7</th>\n",
       "      <td>1</td>\n",
       "      <td>0</td>\n",
       "      <td>Andrews, Mr. Thomas Jr</td>\n",
       "      <td>male</td>\n",
       "      <td>39</td>\n",
       "      <td>0.0</td>\n",
       "      <td>0</td>\n",
       "      <td>112050</td>\n",
       "      <td>0</td>\n",
       "      <td>A36</td>\n",
       "      <td>S</td>\n",
       "      <td>NaN</td>\n",
       "      <td>NaN</td>\n",
       "      <td>IRELAND</td>\n",
       "    </tr>\n",
       "    <tr>\n",
       "      <th>8</th>\n",
       "      <td>1</td>\n",
       "      <td>1</td>\n",
       "      <td>Appleton, Mrs. Edward Dale (Charlotte Lamson)</td>\n",
       "      <td>female</td>\n",
       "      <td>53</td>\n",
       "      <td>2.0</td>\n",
       "      <td>0</td>\n",
       "      <td>11769</td>\n",
       "      <td>514.792</td>\n",
       "      <td>C101</td>\n",
       "      <td>S</td>\n",
       "      <td>D</td>\n",
       "      <td>NaN</td>\n",
       "      <td>USA</td>\n",
       "    </tr>\n",
       "    <tr>\n",
       "      <th>9</th>\n",
       "      <td>1</td>\n",
       "      <td>0</td>\n",
       "      <td>Artagaveytia, Mr. Ramon</td>\n",
       "      <td>male</td>\n",
       "      <td>71</td>\n",
       "      <td>0.0</td>\n",
       "      <td>0</td>\n",
       "      <td>PC 17609</td>\n",
       "      <td>495.042</td>\n",
       "      <td>NaN</td>\n",
       "      <td>C</td>\n",
       "      <td>NaN</td>\n",
       "      <td>22.0</td>\n",
       "      <td>URUGUAY</td>\n",
       "    </tr>\n",
       "  </tbody>\n",
       "</table>\n",
       "</div>"
      ],
      "text/plain": [
       "   pclass  survived                                             name     sex  \\\n",
       "0       1         1                    Allen, Miss. Elisabeth Walton  female   \n",
       "1       1         1                   Allison, Master. Hudson Trevor    male   \n",
       "2       1         0                     Allison, Miss. Helen Loraine  female   \n",
       "3       1         0             Allison, Mr. Hudson Joshua Creighton    male   \n",
       "4       1         0  Allison, Mrs. Hudson J C (Bessie Waldo Daniels)  female   \n",
       "5       1         1                              Anderson, Mr. Harry    male   \n",
       "6       1         1                Andrews, Miss. Kornelia Theodosia  female   \n",
       "7       1         0                           Andrews, Mr. Thomas Jr    male   \n",
       "8       1         1    Appleton, Mrs. Edward Dale (Charlotte Lamson)  female   \n",
       "9       1         0                          Artagaveytia, Mr. Ramon    male   \n",
       "\n",
       "    age  sibsp  parch    ticket       fare    cabin embarked boat   body  \\\n",
       "0    29    0.0      0     24160  2.113.375       B5        S    2    NaN   \n",
       "1  0,92    1.0      2    113781     151.55  C22 C26        S   11    NaN   \n",
       "2     2    1.0      2    113781     151.55  C22 C26        S  NaN    NaN   \n",
       "3    30    1.0      2    113781     151.55  C22 C26        S  NaN  135.0   \n",
       "4    25    1.0      2    113781     151.55  C22 C26        S  NaN    NaN   \n",
       "5    48    0.0      0     19952      26.55      E12        S    3    NaN   \n",
       "6    63    1.0      0     13502    779.583       D7        S   10    NaN   \n",
       "7    39    0.0      0    112050          0      A36        S  NaN    NaN   \n",
       "8    53    2.0      0     11769    514.792     C101        S    D    NaN   \n",
       "9    71    0.0      0  PC 17609    495.042      NaN        C  NaN   22.0   \n",
       "\n",
       "  home.dest  \n",
       "0       USA  \n",
       "1    CANADA  \n",
       "2    CANADA  \n",
       "3    CANADA  \n",
       "4    CANADA  \n",
       "5       USA  \n",
       "6       USA  \n",
       "7   IRELAND  \n",
       "8       USA  \n",
       "9   URUGUAY  "
      ]
     },
     "execution_count": 4,
     "metadata": {},
     "output_type": "execute_result"
    }
   ],
   "source": [
    "df.head(10)"
   ]
  },
  {
   "cell_type": "code",
   "execution_count": 5,
   "id": "84e6ee71",
   "metadata": {},
   "outputs": [
    {
     "name": "stdout",
     "output_type": "stream",
     "text": [
      "<class 'pandas.core.frame.DataFrame'>\n",
      "RangeIndex: 1309 entries, 0 to 1308\n",
      "Data columns (total 14 columns):\n",
      " #   Column     Non-Null Count  Dtype  \n",
      "---  ------     --------------  -----  \n",
      " 0   pclass     1309 non-null   int64  \n",
      " 1   survived   1309 non-null   int64  \n",
      " 2   name       1309 non-null   object \n",
      " 3   sex        1309 non-null   object \n",
      " 4   age        1300 non-null   object \n",
      " 5   sibsp      1308 non-null   float64\n",
      " 6   parch      1309 non-null   int64  \n",
      " 7   ticket     1309 non-null   object \n",
      " 8   fare       1308 non-null   object \n",
      " 9   cabin      295 non-null    object \n",
      " 10  embarked   1307 non-null   object \n",
      " 11  boat       486 non-null    object \n",
      " 12  body       121 non-null    float64\n",
      " 13  home.dest  1303 non-null   object \n",
      "dtypes: float64(2), int64(3), object(9)\n",
      "memory usage: 143.3+ KB\n"
     ]
    }
   ],
   "source": [
    "df.info()"
   ]
  },
  {
   "cell_type": "code",
   "execution_count": 6,
   "id": "a9f26c54",
   "metadata": {},
   "outputs": [
    {
     "data": {
      "text/html": [
       "<div>\n",
       "<style scoped>\n",
       "    .dataframe tbody tr th:only-of-type {\n",
       "        vertical-align: middle;\n",
       "    }\n",
       "\n",
       "    .dataframe tbody tr th {\n",
       "        vertical-align: top;\n",
       "    }\n",
       "\n",
       "    .dataframe thead th {\n",
       "        text-align: right;\n",
       "    }\n",
       "</style>\n",
       "<table border=\"1\" class=\"dataframe\">\n",
       "  <thead>\n",
       "    <tr style=\"text-align: right;\">\n",
       "      <th></th>\n",
       "      <th>name</th>\n",
       "      <th>sex</th>\n",
       "      <th>age</th>\n",
       "      <th>ticket</th>\n",
       "      <th>fare</th>\n",
       "      <th>cabin</th>\n",
       "      <th>embarked</th>\n",
       "      <th>boat</th>\n",
       "      <th>home.dest</th>\n",
       "    </tr>\n",
       "  </thead>\n",
       "  <tbody>\n",
       "    <tr>\n",
       "      <th>count</th>\n",
       "      <td>1309</td>\n",
       "      <td>1309</td>\n",
       "      <td>1300</td>\n",
       "      <td>1309</td>\n",
       "      <td>1308</td>\n",
       "      <td>295</td>\n",
       "      <td>1307</td>\n",
       "      <td>486</td>\n",
       "      <td>1303</td>\n",
       "    </tr>\n",
       "    <tr>\n",
       "      <th>unique</th>\n",
       "      <td>1307</td>\n",
       "      <td>2</td>\n",
       "      <td>147</td>\n",
       "      <td>929</td>\n",
       "      <td>280</td>\n",
       "      <td>186</td>\n",
       "      <td>3</td>\n",
       "      <td>27</td>\n",
       "      <td>48</td>\n",
       "    </tr>\n",
       "    <tr>\n",
       "      <th>top</th>\n",
       "      <td>Kelly, Mr. James</td>\n",
       "      <td>male</td>\n",
       "      <td>22,0</td>\n",
       "      <td>CA. 2343</td>\n",
       "      <td>8.05</td>\n",
       "      <td>C23 C25 C27</td>\n",
       "      <td>S</td>\n",
       "      <td>13</td>\n",
       "      <td>UK</td>\n",
       "    </tr>\n",
       "    <tr>\n",
       "      <th>freq</th>\n",
       "      <td>2</td>\n",
       "      <td>843</td>\n",
       "      <td>35</td>\n",
       "      <td>11</td>\n",
       "      <td>60</td>\n",
       "      <td>6</td>\n",
       "      <td>914</td>\n",
       "      <td>39</td>\n",
       "      <td>323</td>\n",
       "    </tr>\n",
       "  </tbody>\n",
       "</table>\n",
       "</div>"
      ],
      "text/plain": [
       "                    name   sex   age    ticket  fare        cabin embarked  \\\n",
       "count               1309  1309  1300      1309  1308          295     1307   \n",
       "unique              1307     2   147       929   280          186        3   \n",
       "top     Kelly, Mr. James  male  22,0  CA. 2343  8.05  C23 C25 C27        S   \n",
       "freq                   2   843    35        11    60            6      914   \n",
       "\n",
       "       boat home.dest  \n",
       "count   486      1303  \n",
       "unique   27        48  \n",
       "top      13        UK  \n",
       "freq     39       323  "
      ]
     },
     "execution_count": 6,
     "metadata": {},
     "output_type": "execute_result"
    }
   ],
   "source": [
    "df.describe(include= 'object')"
   ]
  },
  {
   "cell_type": "code",
   "execution_count": 7,
   "id": "6c7b2c4c",
   "metadata": {},
   "outputs": [
    {
     "data": {
      "text/html": [
       "<div>\n",
       "<style scoped>\n",
       "    .dataframe tbody tr th:only-of-type {\n",
       "        vertical-align: middle;\n",
       "    }\n",
       "\n",
       "    .dataframe tbody tr th {\n",
       "        vertical-align: top;\n",
       "    }\n",
       "\n",
       "    .dataframe thead th {\n",
       "        text-align: right;\n",
       "    }\n",
       "</style>\n",
       "<table border=\"1\" class=\"dataframe\">\n",
       "  <thead>\n",
       "    <tr style=\"text-align: right;\">\n",
       "      <th></th>\n",
       "      <th>pclass</th>\n",
       "      <th>survived</th>\n",
       "      <th>sibsp</th>\n",
       "      <th>parch</th>\n",
       "      <th>body</th>\n",
       "    </tr>\n",
       "  </thead>\n",
       "  <tbody>\n",
       "    <tr>\n",
       "      <th>count</th>\n",
       "      <td>1309.000000</td>\n",
       "      <td>1309.000000</td>\n",
       "      <td>1308.000000</td>\n",
       "      <td>1309.000000</td>\n",
       "      <td>121.000000</td>\n",
       "    </tr>\n",
       "    <tr>\n",
       "      <th>mean</th>\n",
       "      <td>2.294882</td>\n",
       "      <td>0.381971</td>\n",
       "      <td>0.499235</td>\n",
       "      <td>0.385027</td>\n",
       "      <td>160.809917</td>\n",
       "    </tr>\n",
       "    <tr>\n",
       "      <th>std</th>\n",
       "      <td>0.837836</td>\n",
       "      <td>0.486055</td>\n",
       "      <td>1.041965</td>\n",
       "      <td>0.865560</td>\n",
       "      <td>97.696922</td>\n",
       "    </tr>\n",
       "    <tr>\n",
       "      <th>min</th>\n",
       "      <td>1.000000</td>\n",
       "      <td>0.000000</td>\n",
       "      <td>0.000000</td>\n",
       "      <td>0.000000</td>\n",
       "      <td>1.000000</td>\n",
       "    </tr>\n",
       "    <tr>\n",
       "      <th>25%</th>\n",
       "      <td>2.000000</td>\n",
       "      <td>0.000000</td>\n",
       "      <td>0.000000</td>\n",
       "      <td>0.000000</td>\n",
       "      <td>72.000000</td>\n",
       "    </tr>\n",
       "    <tr>\n",
       "      <th>50%</th>\n",
       "      <td>3.000000</td>\n",
       "      <td>0.000000</td>\n",
       "      <td>0.000000</td>\n",
       "      <td>0.000000</td>\n",
       "      <td>155.000000</td>\n",
       "    </tr>\n",
       "    <tr>\n",
       "      <th>75%</th>\n",
       "      <td>3.000000</td>\n",
       "      <td>1.000000</td>\n",
       "      <td>1.000000</td>\n",
       "      <td>0.000000</td>\n",
       "      <td>256.000000</td>\n",
       "    </tr>\n",
       "    <tr>\n",
       "      <th>max</th>\n",
       "      <td>3.000000</td>\n",
       "      <td>1.000000</td>\n",
       "      <td>8.000000</td>\n",
       "      <td>9.000000</td>\n",
       "      <td>328.000000</td>\n",
       "    </tr>\n",
       "  </tbody>\n",
       "</table>\n",
       "</div>"
      ],
      "text/plain": [
       "            pclass     survived        sibsp        parch        body\n",
       "count  1309.000000  1309.000000  1308.000000  1309.000000  121.000000\n",
       "mean      2.294882     0.381971     0.499235     0.385027  160.809917\n",
       "std       0.837836     0.486055     1.041965     0.865560   97.696922\n",
       "min       1.000000     0.000000     0.000000     0.000000    1.000000\n",
       "25%       2.000000     0.000000     0.000000     0.000000   72.000000\n",
       "50%       3.000000     0.000000     0.000000     0.000000  155.000000\n",
       "75%       3.000000     1.000000     1.000000     0.000000  256.000000\n",
       "max       3.000000     1.000000     8.000000     9.000000  328.000000"
      ]
     },
     "execution_count": 7,
     "metadata": {},
     "output_type": "execute_result"
    }
   ],
   "source": [
    "df.describe(include = 'number')"
   ]
  },
  {
   "cell_type": "markdown",
   "id": "5902bc20",
   "metadata": {},
   "source": [
    "## Zmiana typów danych"
   ]
  },
  {
   "cell_type": "code",
   "execution_count": 8,
   "id": "bd8d76ae",
   "metadata": {},
   "outputs": [],
   "source": [
    "df['fare']= df['fare'].apply(lambda x: x.replace('.', '', 1) if str(x).count('.')>1 else x).astype(float).apply(round, args = (2,)) "
   ]
  },
  {
   "cell_type": "code",
   "execution_count": 9,
   "id": "006afb9b",
   "metadata": {},
   "outputs": [],
   "source": [
    "df['age']= df['age'].apply(lambda x: x.replace(',', '.', 1) if str(x).count(',')==1 else x).astype(float).apply(round, args = (2,)) "
   ]
  },
  {
   "cell_type": "markdown",
   "id": "50ca4700",
   "metadata": {},
   "source": [
    "## ilu przeżyło"
   ]
  },
  {
   "cell_type": "code",
   "execution_count": 10,
   "id": "e64da1b2",
   "metadata": {},
   "outputs": [
    {
     "data": {
      "image/png": "[encoded data removed]",
      "text/plain": [
       "<Figure size 432x288 with 1 Axes>"
      ]
     },
     "metadata": {
      "needs_background": "light"
     },
     "output_type": "display_data"
    }
   ],
   "source": [
    "fig, ax = plt.subplots()\n",
    "x = df['survived'].value_counts().sort_index()\n",
    "plt.bar(x = x.index, height = x.values, color = ['green', 'blue'])\n",
    "plt.xticks(np.arange(2), ['utopiony', 'przeżył'])\n",
    "plt.title('Liczba pasażerów')\n",
    "y=x.values\n",
    "\n",
    "x1= df['survived'].value_counts(normalize = False).sort_index()\n",
    "y=x1.values\n",
    "x= x1.index\n",
    "for index in range(len(x1)):\n",
    "    ax.text(x[index], y[index], y[index], size=14, color ='k', ha = 'center')\n",
    "    \n",
    "\n",
    "    \n",
    " "
   ]
  },
  {
   "cell_type": "markdown",
   "id": "45f77793",
   "metadata": {},
   "source": [
    "## Analiza rozkładów"
   ]
  },
  {
   "cell_type": "markdown",
   "id": "2e4046ba",
   "metadata": {},
   "source": [
    "- liczba pasażerów według płci\n"
   ]
  },
  {
   "cell_type": "code",
   "execution_count": 11,
   "id": "709fccfd",
   "metadata": {},
   "outputs": [
    {
     "data": {
      "text/html": [
       "<div>\n",
       "<style scoped>\n",
       "    .dataframe tbody tr th:only-of-type {\n",
       "        vertical-align: middle;\n",
       "    }\n",
       "\n",
       "    .dataframe tbody tr th {\n",
       "        vertical-align: top;\n",
       "    }\n",
       "\n",
       "    .dataframe thead th {\n",
       "        text-align: right;\n",
       "    }\n",
       "</style>\n",
       "<table border=\"1\" class=\"dataframe\">\n",
       "  <thead>\n",
       "    <tr style=\"text-align: right;\">\n",
       "      <th></th>\n",
       "      <th>sex</th>\n",
       "      <th>survived</th>\n",
       "    </tr>\n",
       "  </thead>\n",
       "  <tbody>\n",
       "    <tr>\n",
       "      <th>0</th>\n",
       "      <td>female</td>\n",
       "      <td>0</td>\n",
       "    </tr>\n",
       "    <tr>\n",
       "      <th>1</th>\n",
       "      <td>female</td>\n",
       "      <td>1</td>\n",
       "    </tr>\n",
       "    <tr>\n",
       "      <th>2</th>\n",
       "      <td>male</td>\n",
       "      <td>0</td>\n",
       "    </tr>\n",
       "    <tr>\n",
       "      <th>3</th>\n",
       "      <td>male</td>\n",
       "      <td>1</td>\n",
       "    </tr>\n",
       "  </tbody>\n",
       "</table>\n",
       "</div>"
      ],
      "text/plain": [
       "      sex  survived\n",
       "0  female         0\n",
       "1  female         1\n",
       "2    male         0\n",
       "3    male         1"
      ]
     },
     "execution_count": 11,
     "metadata": {},
     "output_type": "execute_result"
    }
   ],
   "source": [
    "df.groupby(['sex', 'survived'], as_index=False).agg('count')[['sex', 'survived']]"
   ]
  },
  {
   "cell_type": "markdown",
   "id": "ee17fafd",
   "metadata": {},
   "source": [
    "- liczba pasażerów według portu"
   ]
  },
  {
   "cell_type": "code",
   "execution_count": 12,
   "id": "6e90d936",
   "metadata": {},
   "outputs": [
    {
     "data": {
      "text/plain": [
       "home.dest  survived\n",
       "ARGENTINA  0             5\n",
       "AUSTRALIA  0             1\n",
       "           1             1\n",
       "AUSTRIA    0             7\n",
       "           1             1\n",
       "                      ... \n",
       "UK         1           108\n",
       "URUGUAY    0             3\n",
       "USA        0           142\n",
       "           1           177\n",
       "WALES      0             7\n",
       "Name: name, Length: 75, dtype: int64"
      ]
     },
     "execution_count": 12,
     "metadata": {},
     "output_type": "execute_result"
    }
   ],
   "source": [
    "df.groupby(['home.dest', 'survived']).agg('count')['name']"
   ]
  },
  {
   "cell_type": "markdown",
   "id": "9ac9f320",
   "metadata": {},
   "source": [
    "- liczba pasażerów według klasy biletu"
   ]
  },
  {
   "cell_type": "code",
   "execution_count": 13,
   "id": "2186f6d6",
   "metadata": {},
   "outputs": [
    {
     "data": {
      "text/plain": [
       "pclass  survived\n",
       "1       0           123\n",
       "        1           200\n",
       "2       0           158\n",
       "        1           119\n",
       "3       0           528\n",
       "        1           181\n",
       "Name: name, dtype: int64"
      ]
     },
     "execution_count": 13,
     "metadata": {},
     "output_type": "execute_result"
    }
   ],
   "source": [
    "df.groupby(['pclass', 'survived']).agg('count')['name']"
   ]
  },
  {
   "cell_type": "markdown",
   "id": "db5b5f7f",
   "metadata": {},
   "source": [
    "- liczba pasarzerów według płci"
   ]
  },
  {
   "cell_type": "code",
   "execution_count": 14,
   "id": "f2eae7fd",
   "metadata": {},
   "outputs": [
    {
     "data": {
      "text/plain": [
       "sex     survived\n",
       "female  0           127\n",
       "        1           339\n",
       "male    0           682\n",
       "        1           161\n",
       "Name: name, dtype: int64"
      ]
     },
     "execution_count": 14,
     "metadata": {},
     "output_type": "execute_result"
    }
   ],
   "source": [
    "df.groupby(['sex', 'survived']).agg('count')['name']"
   ]
  },
  {
   "cell_type": "code",
   "execution_count": 15,
   "id": "47307e72",
   "metadata": {},
   "outputs": [],
   "source": [
    "numericcols = [col for col in df.columns if df[col].dtype in [ float, int] ]"
   ]
  },
  {
   "cell_type": "code",
   "execution_count": 16,
   "id": "ca3a83e0",
   "metadata": {},
   "outputs": [
    {
     "data": {
      "text/plain": [
       "['age', 'sibsp', 'fare', 'body']"
      ]
     },
     "execution_count": 16,
     "metadata": {},
     "output_type": "execute_result"
    }
   ],
   "source": [
    "numericcols"
   ]
  },
  {
   "cell_type": "code",
   "execution_count": 17,
   "id": "409d4241",
   "metadata": {
    "scrolled": true
   },
   "outputs": [
    {
     "data": {
      "image/png": "[encoded data removed]",
      "text/plain": [
       "<Figure size 1080x720 with 4 Axes>"
      ]
     },
     "metadata": {
      "needs_background": "light"
     },
     "output_type": "display_data"
    }
   ],
   "source": [
    "#plt.style.use('seaborn-deep')\n",
    "fig, ax = plt.subplots(figsize = (15,10), nrows = 2, ncols=2)\n",
    "counter =0\n",
    "row=0\n",
    "col=0\n",
    "for i in ax:\n",
    "    for j in i:\n",
    "        df[numericcols[counter]].fillna(0, inplace=True)\n",
    "        \n",
    "        if numericcols[counter] != 'survived':\n",
    "            x=df[numericcols[counter]][df['survived']==1].values\n",
    "            x1=df[numericcols[counter]][df['survived']==0].values\n",
    "            #j.hist(x, color = 'red', edgecolor = 'red', alpha = 0.5)\n",
    "            #j.hist(x1, color = 'green', alpha = 0.5, edgecolor = 'green')\n",
    "            j.set_title(f'rozskład pasażerów  ze względu na {numericcols[counter]}')\n",
    "            j.hist([x, x1], label=['przyzyli', 'zatoneli'])\n",
    "            j.legend()\n",
    "            counter += 1\n",
    "            "
   ]
  },
  {
   "cell_type": "markdown",
   "id": "c1433a94",
   "metadata": {},
   "source": [
    "## Wiek "
   ]
  },
  {
   "cell_type": "code",
   "execution_count": 18,
   "id": "7764a694",
   "metadata": {},
   "outputs": [
    {
     "data": {
      "image/png": "[encoded data removed]",
      "text/plain": [
       "<Figure size 360x360 with 1 Axes>"
      ]
     },
     "metadata": {
      "needs_background": "light"
     },
     "output_type": "display_data"
    }
   ],
   "source": [
    "sns.displot(data = df, x = df[(df[\"age\"] > 0)].age, kde=True, bins = 10)\n",
    "\n",
    "# set titles and labels\n",
    "plt.title('Rozkład wieku pasarzerów',fontsize= 14)\n",
    "plt.xlabel('Wiek')\n",
    "plt.ylabel('Ilość')\n",
    "#ax1.set_ylabel('Częstość')\n",
    "\n",
    "#ax2 = ax1.twinx()\n",
    "#ax2.set_ylabel('Ilość')\n",
    "# clean layout\n",
    "plt.tight_layout()"
   ]
  },
  {
   "cell_type": "code",
   "execution_count": 19,
   "id": "78185ed1",
   "metadata": {},
   "outputs": [
    {
     "data": {
      "text/plain": [
       "<matplotlib.legend.Legend at 0x17ff8623940>"
      ]
     },
     "execution_count": 19,
     "metadata": {},
     "output_type": "execute_result"
    },
    {
     "data": {
      "image/png": "[encoded data removed]",
      "text/plain": [
       "<Figure size 1008x360 with 1 Axes>"
      ]
     },
     "metadata": {
      "needs_background": "light"
     },
     "output_type": "display_data"
    }
   ],
   "source": [
    "plt.figure(figsize = (14,5))\n",
    "sns.kdeplot(x= 'age',  color='#eed4d0', shade=True, data= df, label = 'Wszyscy pasazerowie')\n",
    "sns.kdeplot('age', color = 'green', data=df[df['survived']==1], label = 'przeżyli')\n",
    "sns.kdeplot('age', color = 'black', data = df[df['survived']==0], label ='zatonęli')\n",
    "plt.legend()"
   ]
  },
  {
   "cell_type": "code",
   "execution_count": 20,
   "id": "99750b61",
   "metadata": {},
   "outputs": [
    {
     "data": {
      "text/html": [
       "<div>\n",
       "<style scoped>\n",
       "    .dataframe tbody tr th:only-of-type {\n",
       "        vertical-align: middle;\n",
       "    }\n",
       "\n",
       "    .dataframe tbody tr th {\n",
       "        vertical-align: top;\n",
       "    }\n",
       "\n",
       "    .dataframe thead th {\n",
       "        text-align: right;\n",
       "    }\n",
       "</style>\n",
       "<table border=\"1\" class=\"dataframe\">\n",
       "  <thead>\n",
       "    <tr style=\"text-align: right;\">\n",
       "      <th></th>\n",
       "      <th></th>\n",
       "      <th></th>\n",
       "      <th>count</th>\n",
       "      <th>mean</th>\n",
       "      <th>std</th>\n",
       "      <th>min</th>\n",
       "      <th>25%</th>\n",
       "      <th>50%</th>\n",
       "      <th>75%</th>\n",
       "      <th>max</th>\n",
       "    </tr>\n",
       "    <tr>\n",
       "      <th>survived</th>\n",
       "      <th>pclass</th>\n",
       "      <th>sex</th>\n",
       "      <th></th>\n",
       "      <th></th>\n",
       "      <th></th>\n",
       "      <th></th>\n",
       "      <th></th>\n",
       "      <th></th>\n",
       "      <th></th>\n",
       "      <th></th>\n",
       "    </tr>\n",
       "  </thead>\n",
       "  <tbody>\n",
       "    <tr>\n",
       "      <th rowspan=\"6\" valign=\"top\">0</th>\n",
       "      <th rowspan=\"2\" valign=\"top\">1</th>\n",
       "      <th>female</th>\n",
       "      <td>5.0</td>\n",
       "      <td>35.200000</td>\n",
       "      <td>23.445682</td>\n",
       "      <td>2.00</td>\n",
       "      <td>25.000</td>\n",
       "      <td>36.0</td>\n",
       "      <td>50.0</td>\n",
       "      <td>63.0</td>\n",
       "    </tr>\n",
       "    <tr>\n",
       "      <th>male</th>\n",
       "      <td>118.0</td>\n",
       "      <td>42.504237</td>\n",
       "      <td>14.697447</td>\n",
       "      <td>0.00</td>\n",
       "      <td>31.375</td>\n",
       "      <td>43.5</td>\n",
       "      <td>53.5</td>\n",
       "      <td>71.0</td>\n",
       "    </tr>\n",
       "    <tr>\n",
       "      <th rowspan=\"2\" valign=\"top\">2</th>\n",
       "      <th>female</th>\n",
       "      <td>12.0</td>\n",
       "      <td>33.916667</td>\n",
       "      <td>13.412737</td>\n",
       "      <td>18.00</td>\n",
       "      <td>25.500</td>\n",
       "      <td>29.5</td>\n",
       "      <td>39.5</td>\n",
       "      <td>60.0</td>\n",
       "    </tr>\n",
       "    <tr>\n",
       "      <th>male</th>\n",
       "      <td>146.0</td>\n",
       "      <td>32.571918</td>\n",
       "      <td>12.248292</td>\n",
       "      <td>0.00</td>\n",
       "      <td>24.000</td>\n",
       "      <td>30.0</td>\n",
       "      <td>39.0</td>\n",
       "      <td>70.0</td>\n",
       "    </tr>\n",
       "    <tr>\n",
       "      <th rowspan=\"2\" valign=\"top\">3</th>\n",
       "      <th>female</th>\n",
       "      <td>110.0</td>\n",
       "      <td>24.240909</td>\n",
       "      <td>13.390352</td>\n",
       "      <td>1.00</td>\n",
       "      <td>17.250</td>\n",
       "      <td>21.5</td>\n",
       "      <td>32.0</td>\n",
       "      <td>64.0</td>\n",
       "    </tr>\n",
       "    <tr>\n",
       "      <th>male</th>\n",
       "      <td>418.0</td>\n",
       "      <td>26.398158</td>\n",
       "      <td>11.477911</td>\n",
       "      <td>0.00</td>\n",
       "      <td>20.000</td>\n",
       "      <td>24.0</td>\n",
       "      <td>32.0</td>\n",
       "      <td>74.0</td>\n",
       "    </tr>\n",
       "    <tr>\n",
       "      <th rowspan=\"6\" valign=\"top\">1</th>\n",
       "      <th rowspan=\"2\" valign=\"top\">1</th>\n",
       "      <th>female</th>\n",
       "      <td>139.0</td>\n",
       "      <td>37.136691</td>\n",
       "      <td>13.936295</td>\n",
       "      <td>0.00</td>\n",
       "      <td>25.000</td>\n",
       "      <td>36.0</td>\n",
       "      <td>48.0</td>\n",
       "      <td>76.0</td>\n",
       "    </tr>\n",
       "    <tr>\n",
       "      <th>male</th>\n",
       "      <td>61.0</td>\n",
       "      <td>35.736393</td>\n",
       "      <td>14.997426</td>\n",
       "      <td>0.00</td>\n",
       "      <td>27.000</td>\n",
       "      <td>36.0</td>\n",
       "      <td>47.0</td>\n",
       "      <td>80.0</td>\n",
       "    </tr>\n",
       "    <tr>\n",
       "      <th rowspan=\"2\" valign=\"top\">2</th>\n",
       "      <th>female</th>\n",
       "      <td>94.0</td>\n",
       "      <td>26.961915</td>\n",
       "      <td>12.648805</td>\n",
       "      <td>0.92</td>\n",
       "      <td>20.000</td>\n",
       "      <td>28.0</td>\n",
       "      <td>34.0</td>\n",
       "      <td>55.0</td>\n",
       "    </tr>\n",
       "    <tr>\n",
       "      <th>male</th>\n",
       "      <td>25.0</td>\n",
       "      <td>18.053200</td>\n",
       "      <td>16.143724</td>\n",
       "      <td>0.67</td>\n",
       "      <td>2.000</td>\n",
       "      <td>20.0</td>\n",
       "      <td>29.0</td>\n",
       "      <td>62.0</td>\n",
       "    </tr>\n",
       "    <tr>\n",
       "      <th rowspan=\"2\" valign=\"top\">3</th>\n",
       "      <th>female</th>\n",
       "      <td>106.0</td>\n",
       "      <td>21.836509</td>\n",
       "      <td>10.855694</td>\n",
       "      <td>0.17</td>\n",
       "      <td>17.000</td>\n",
       "      <td>22.0</td>\n",
       "      <td>27.0</td>\n",
       "      <td>64.0</td>\n",
       "    </tr>\n",
       "    <tr>\n",
       "      <th>male</th>\n",
       "      <td>75.0</td>\n",
       "      <td>23.089733</td>\n",
       "      <td>10.407582</td>\n",
       "      <td>0.83</td>\n",
       "      <td>19.500</td>\n",
       "      <td>24.0</td>\n",
       "      <td>29.5</td>\n",
       "      <td>45.0</td>\n",
       "    </tr>\n",
       "  </tbody>\n",
       "</table>\n",
       "</div>"
      ],
      "text/plain": [
       "                        count       mean        std    min     25%   50%  \\\n",
       "survived pclass sex                                                        \n",
       "0        1      female    5.0  35.200000  23.445682   2.00  25.000  36.0   \n",
       "                male    118.0  42.504237  14.697447   0.00  31.375  43.5   \n",
       "         2      female   12.0  33.916667  13.412737  18.00  25.500  29.5   \n",
       "                male    146.0  32.571918  12.248292   0.00  24.000  30.0   \n",
       "         3      female  110.0  24.240909  13.390352   1.00  17.250  21.5   \n",
       "                male    418.0  26.398158  11.477911   0.00  20.000  24.0   \n",
       "1        1      female  139.0  37.136691  13.936295   0.00  25.000  36.0   \n",
       "                male     61.0  35.736393  14.997426   0.00  27.000  36.0   \n",
       "         2      female   94.0  26.961915  12.648805   0.92  20.000  28.0   \n",
       "                male     25.0  18.053200  16.143724   0.67   2.000  20.0   \n",
       "         3      female  106.0  21.836509  10.855694   0.17  17.000  22.0   \n",
       "                male     75.0  23.089733  10.407582   0.83  19.500  24.0   \n",
       "\n",
       "                         75%   max  \n",
       "survived pclass sex                 \n",
       "0        1      female  50.0  63.0  \n",
       "                male    53.5  71.0  \n",
       "         2      female  39.5  60.0  \n",
       "                male    39.0  70.0  \n",
       "         3      female  32.0  64.0  \n",
       "                male    32.0  74.0  \n",
       "1        1      female  48.0  76.0  \n",
       "                male    47.0  80.0  \n",
       "         2      female  34.0  55.0  \n",
       "                male    29.0  62.0  \n",
       "         3      female  27.0  64.0  \n",
       "                male    29.5  45.0  "
      ]
     },
     "execution_count": 20,
     "metadata": {},
     "output_type": "execute_result"
    }
   ],
   "source": [
    "df.groupby(['survived', 'pclass', 'sex'])['age'].describe()"
   ]
  },
  {
   "cell_type": "code",
   "execution_count": 21,
   "id": "b5870734",
   "metadata": {},
   "outputs": [
    {
     "data": {
      "text/plain": [
       "<AxesSubplot:title={'center':'Wykres pudełkowy wieku pasażera i umieralności'}, xlabel='age', ylabel='survived'>"
      ]
     },
     "execution_count": 21,
     "metadata": {},
     "output_type": "execute_result"
    },
    {
     "data": {
      "image/png": "[encoded data removed]",
      "text/plain": [
       "<Figure size 1080x216 with 1 Axes>"
      ]
     },
     "metadata": {
      "needs_background": "light"
     },
     "output_type": "display_data"
    }
   ],
   "source": [
    "plt.figure(figsize =(15,3))\n",
    "sns.boxplot(y='survived', x='age', data=df, orient = 'h')\n",
    "plt.yticks(np.arange(2), ['zatopiony', 'przezyl'])\n",
    "plt.ylabel('Status pasażera')\n",
    "plt.title('Wykres pudełkowy wieku pasażera i umieralności')\n",
    "sns.stripplot(y='survived', x ='age', data =df, orient = 'h', palette  = 'Greys', linewidth = 0.2, s=5.0)"
   ]
  },
  {
   "cell_type": "code",
   "execution_count": null,
   "id": "98ec6c2d",
   "metadata": {},
   "outputs": [],
   "source": []
  },
  {
   "cell_type": "markdown",
   "id": "e491746e",
   "metadata": {},
   "source": [
    "## Klasa biletu"
   ]
  },
  {
   "cell_type": "code",
   "execution_count": 22,
   "id": "be6e69d2",
   "metadata": {},
   "outputs": [
    {
     "data": {
      "image/png": "[encoded data removed]",
      "text/plain": [
       "<Figure size 1080x288 with 2 Axes>"
      ]
     },
     "metadata": {
      "needs_background": "light"
     },
     "output_type": "display_data"
    }
   ],
   "source": [
    "fig, ax = plt.subplots(figsize = (15,4), nrows=1, ncols =2)\n",
    "x1=df[df['survived'] ==1]['pclass'].value_counts(normalize = False).sort_index()\n",
    "ax[0].bar(x = x1.index, height = x1.values, color = ['green', 'blue', 'orange'])\n",
    "ax[0].set_title('Pasażerowie którzy zgineli',  fontsize =14)\n",
    "y=x1.values\n",
    "x= x1.index\n",
    "fig.suptitle('Liczba pasażerów wzlędu na klasę biletu', ha = 'center', fontsize = 15)\n",
    "#labels = (all_data['Survived'].value_counts())\n",
    "# add result numbers on barchart\n",
    "labels = x1.values\n",
    "for index in range(len(x1)):\n",
    "    ax[0].text(x[index], y[index], y[index], size=10, ha = 'center' )\n",
    "\n",
    "x1=df[df['survived'] ==0]['pclass'].value_counts(normalize = False).sort_index()\n",
    "\n",
    "ax[1].bar(x = x1.index, height = x1.values, color = ['green', 'blue', 'orange'])\n",
    "ax[1].set_title('Pasażerowie którzy przeżyli', fontsize =14)\n",
    "y=x1.values\n",
    "x= x1.index\n",
    "labels = x1.values\n",
    "for index in range(len(x1)):\n",
    "    ax[1].text(x[index], y[index], y[index], size=10, ha = 'center' )\n",
    "plt.subplots_adjust(left=0.1, bottom=0.05, right=0.9, top=0.8, wspace=0.15, hspace=0.5)"
   ]
  },
  {
   "cell_type": "code",
   "execution_count": 23,
   "id": "ad6b1751",
   "metadata": {},
   "outputs": [
    {
     "data": {
      "text/plain": [
       "Text(0.5, 1.0, 'Wskaźnik przeżycia ze względu na klasę biletu')"
      ]
     },
     "execution_count": 23,
     "metadata": {},
     "output_type": "execute_result"
    },
    {
     "data": {
      "image/png": "[encoded data removed]",
      "text/plain": [
       "<Figure size 360x360 with 1 Axes>"
      ]
     },
     "metadata": {
      "needs_background": "light"
     },
     "output_type": "display_data"
    }
   ],
   "source": [
    "sns.catplot(x='pclass',y='survived', kind ='bar', data=df); \n",
    "plt.title('Wskaźnik przeżycia ze względu na klasę biletu')"
   ]
  },
  {
   "cell_type": "code",
   "execution_count": 24,
   "id": "15d10604",
   "metadata": {},
   "outputs": [
    {
     "data": {
      "text/plain": [
       "1    0.619195\n",
       "0    0.380805\n",
       "Name: survived, dtype: float64"
      ]
     },
     "execution_count": 24,
     "metadata": {},
     "output_type": "execute_result"
    }
   ],
   "source": [
    "df['survived'][df['pclass']==1].value_counts(normalize =True)"
   ]
  },
  {
   "cell_type": "code",
   "execution_count": 25,
   "id": "706d7bc2",
   "metadata": {
    "scrolled": true
   },
   "outputs": [
    {
     "name": "stderr",
     "output_type": "stream",
     "text": [
      "C:\\Users\\48603\\anaconda3\\lib\\site-packages\\seaborn\\_decorators.py:36: FutureWarning: Pass the following variables as keyword args: x, y. From version 0.12, the only valid positional argument will be `data`, and passing other arguments without an explicit keyword will result in an error or misinterpretation.\n",
      "  warnings.warn(\n"
     ]
    },
    {
     "data": {
      "text/plain": [
       "Text(0.5, 1.0, 'Wskaznik przezycia ze względu na płec i klasę biletu')"
      ]
     },
     "execution_count": 25,
     "metadata": {},
     "output_type": "execute_result"
    },
    {
     "data": {
      "image/png": "[encoded data removed]",
      "text/plain": [
       "<Figure size 430.5x360 with 1 Axes>"
      ]
     },
     "metadata": {
      "needs_background": "light"
     },
     "output_type": "display_data"
    }
   ],
   "source": [
    "sns.catplot('pclass','survived',hue='sex', kind='point', data=df);\n",
    "plt.title('Wskaznik przezycia ze względu na płec i klasę biletu')\n"
   ]
  },
  {
   "cell_type": "code",
   "execution_count": 26,
   "id": "a7892e65",
   "metadata": {},
   "outputs": [
    {
     "data": {
      "text/html": [
       "<div>\n",
       "<style scoped>\n",
       "    .dataframe tbody tr th:only-of-type {\n",
       "        vertical-align: middle;\n",
       "    }\n",
       "\n",
       "    .dataframe tbody tr th {\n",
       "        vertical-align: top;\n",
       "    }\n",
       "\n",
       "    .dataframe thead th {\n",
       "        text-align: right;\n",
       "    }\n",
       "</style>\n",
       "<table border=\"1\" class=\"dataframe\">\n",
       "  <thead>\n",
       "    <tr style=\"text-align: right;\">\n",
       "      <th></th>\n",
       "      <th>survived</th>\n",
       "      <th>0</th>\n",
       "      <th>1</th>\n",
       "      <th>All</th>\n",
       "    </tr>\n",
       "    <tr>\n",
       "      <th>sex</th>\n",
       "      <th>pclass</th>\n",
       "      <th></th>\n",
       "      <th></th>\n",
       "      <th></th>\n",
       "    </tr>\n",
       "  </thead>\n",
       "  <tbody>\n",
       "    <tr>\n",
       "      <th rowspan=\"3\" valign=\"top\">female</th>\n",
       "      <th>1</th>\n",
       "      <td>0.003820</td>\n",
       "      <td>0.106188</td>\n",
       "      <td>0.110008</td>\n",
       "    </tr>\n",
       "    <tr>\n",
       "      <th>2</th>\n",
       "      <td>0.009167</td>\n",
       "      <td>0.071811</td>\n",
       "      <td>0.080978</td>\n",
       "    </tr>\n",
       "    <tr>\n",
       "      <th>3</th>\n",
       "      <td>0.084034</td>\n",
       "      <td>0.080978</td>\n",
       "      <td>0.165011</td>\n",
       "    </tr>\n",
       "    <tr>\n",
       "      <th rowspan=\"3\" valign=\"top\">male</th>\n",
       "      <th>1</th>\n",
       "      <td>0.090145</td>\n",
       "      <td>0.046600</td>\n",
       "      <td>0.136746</td>\n",
       "    </tr>\n",
       "    <tr>\n",
       "      <th>2</th>\n",
       "      <td>0.111536</td>\n",
       "      <td>0.019099</td>\n",
       "      <td>0.130634</td>\n",
       "    </tr>\n",
       "    <tr>\n",
       "      <th>3</th>\n",
       "      <td>0.319328</td>\n",
       "      <td>0.057296</td>\n",
       "      <td>0.376623</td>\n",
       "    </tr>\n",
       "    <tr>\n",
       "      <th>All</th>\n",
       "      <th></th>\n",
       "      <td>0.618029</td>\n",
       "      <td>0.381971</td>\n",
       "      <td>1.000000</td>\n",
       "    </tr>\n",
       "  </tbody>\n",
       "</table>\n",
       "</div>"
      ],
      "text/plain": [
       "survived              0         1       All\n",
       "sex    pclass                              \n",
       "female 1       0.003820  0.106188  0.110008\n",
       "       2       0.009167  0.071811  0.080978\n",
       "       3       0.084034  0.080978  0.165011\n",
       "male   1       0.090145  0.046600  0.136746\n",
       "       2       0.111536  0.019099  0.130634\n",
       "       3       0.319328  0.057296  0.376623\n",
       "All            0.618029  0.381971  1.000000"
      ]
     },
     "execution_count": 26,
     "metadata": {},
     "output_type": "execute_result"
    }
   ],
   "source": [
    "pd.crosstab([df.sex, df.pclass],[df.survived] ,margins=True, normalize =True)"
   ]
  },
  {
   "cell_type": "markdown",
   "id": "3870e8f3",
   "metadata": {},
   "source": [
    "## Port"
   ]
  },
  {
   "cell_type": "code",
   "execution_count": 30,
   "id": "11fd5688",
   "metadata": {},
   "outputs": [
    {
     "data": {
      "image/png": "[encoded data removed]",
      "text/plain": [
       "<Figure size 576x180 with 3 Axes>"
      ]
     },
     "metadata": {
      "needs_background": "light"
     },
     "output_type": "display_data"
    }
   ],
   "source": [
    "\n",
    "g = sns.catplot(x=\"survived\", col=\"embarked\", col_wrap=4,\n",
    "                data=df[df.embarked.notnull()],\n",
    "                kind=\"count\", height=2.5, aspect=.8)"
   ]
  },
  {
   "cell_type": "code",
   "execution_count": 28,
   "id": "15463dc0",
   "metadata": {},
   "outputs": [
    {
     "data": {
      "text/plain": [
       "<AxesSubplot:xlabel='embarked'>"
      ]
     },
     "execution_count": 28,
     "metadata": {},
     "output_type": "execute_result"
    },
    {
     "data": {
      "image/png": "[encoded data removed]",
      "text/plain": [
       "<Figure size 1080x360 with 2 Axes>"
      ]
     },
     "metadata": {
      "needs_background": "light"
     },
     "output_type": "display_data"
    }
   ],
   "source": [
    "\n",
    "fig = plt.figure(figsize= (15,5))\n",
    "ax1 = fig.add_subplot(121)\n",
    "sns.countplot(x='embarked', data=df, palette = sns.color_palette(\"Blues_d\"), ax=ax1 )\n",
    "ax1.set_title('Liczba pasażerów wyruszająca z poszczególnych portów')\n",
    "ax2 = fig.add_subplot(122)\n",
    "x = df.groupby('embarked')['pclass'].value_counts(normalize = True).unstack()\n",
    "x.plot(kind='bar', ax=ax2, stacked=True)\n"
   ]
  },
  {
   "cell_type": "code",
   "execution_count": 215,
   "id": "429d4a59",
   "metadata": {},
   "outputs": [
    {
     "data": {
      "image/png": "[encoded data removed]",
      "text/plain": [
       "<Figure size 720x360 with 2 Axes>"
      ]
     },
     "metadata": {
      "needs_background": "light"
     },
     "output_type": "display_data"
    }
   ],
   "source": [
    "fig, ax = plt.subplots(figsize = (10,5) ,nrows =1, ncols =2)\n",
    "x = df.groupby(['embarked'])['survived'].value_counts(normalize = True).unstack()\n",
    "ax[0].bar(x=x.index, height = x.values[0:, 0], color = ['blue', 'pink', 'purple'])\n",
    "y=x.values[0:, 0]\n",
    "x= x.index\n",
    "labels =  x.values\n",
    "for index in range(len(x)):\n",
    "    ax[0].text(x[index], round(y[index],2) , round(y[index],2),  size=10, ha = 'center' )\n",
    "ax[0].set_title('Odsetek pasażerów, która przeżyła według portu')\n",
    "\n",
    "\n",
    "g = sns.barplot(x=\"embarked\", y ='survived', hue=\"pclass\",\n",
    "                data = df[(df.embarked.notnull())],\n",
    "                ax = ax[1], ci=None)\n",
    "ax[1].set_title('Odsetek osób, króta przeżyła według portu i klasy biletu')\n",
    "# x = df.groupby(['embarked', 'pclass'])['survived'].value_counts(normalize = True).unstack()[[1]]\n",
    "# x.reset_index(inplace=True)\n",
    "# x.set_index(['embarked' , 'pclass'], inplace=True)\n",
    "# x[[1]].plot(kind = 'bar',stacked = True, ax = ax[1],)\n",
    "\n",
    "plt.subplots_adjust(left=0.1, bottom=0.1, right=0.9, top=0.9, wspace=0.5, hspace=1)\n",
    "\n",
    "def show_values(axs, orient=\"v\", space=.01):\n",
    "    def _single(ax):\n",
    "        if orient == \"v\":\n",
    "            for p in ax.patches:\n",
    "                _x = p.get_x() + p.get_width() / 2\n",
    "                _y = p.get_y() + p.get_height() + (p.get_height()*0.01)\n",
    "                value = '{:.1f}'.format(p.get_height())\n",
    "                ax.text(_x, _y, value, ha=\"center\") \n",
    "        elif orient == \"h\":\n",
    "            for p in ax.patches:\n",
    "                _x = p.get_x() + p.get_width() + float(space)\n",
    "                _y = p.get_y() + p.get_height() - (p.get_height()*0.5)\n",
    "                value = '{:.1f}'.format(p.get_width())\n",
    "                ax.text(_x, _y, value, ha=\"left\")\n",
    "\n",
    "    if isinstance(axs, np.ndarray):\n",
    "        for idx, ax in np.ndenumerate(axs):\n",
    "            _single(ax)\n",
    "    else:\n",
    "        _single(axs)\n",
    "show_values(g)"
   ]
  },
  {
   "cell_type": "code",
   "execution_count": 48,
   "id": "e8d7fe84",
   "metadata": {},
   "outputs": [
    {
     "data": {
      "text/html": [
       "<div>\n",
       "<style scoped>\n",
       "    .dataframe tbody tr th:only-of-type {\n",
       "        vertical-align: middle;\n",
       "    }\n",
       "\n",
       "    .dataframe tbody tr th {\n",
       "        vertical-align: top;\n",
       "    }\n",
       "\n",
       "    .dataframe thead th {\n",
       "        text-align: right;\n",
       "    }\n",
       "</style>\n",
       "<table border=\"1\" class=\"dataframe\">\n",
       "  <thead>\n",
       "    <tr style=\"text-align: right;\">\n",
       "      <th>embarked</th>\n",
       "      <th>C</th>\n",
       "      <th>Q</th>\n",
       "      <th>S</th>\n",
       "    </tr>\n",
       "    <tr>\n",
       "      <th>survived</th>\n",
       "      <th></th>\n",
       "      <th></th>\n",
       "      <th></th>\n",
       "    </tr>\n",
       "  </thead>\n",
       "  <tbody>\n",
       "    <tr>\n",
       "      <th>0</th>\n",
       "      <td>0.091813</td>\n",
       "      <td>0.060444</td>\n",
       "      <td>0.466718</td>\n",
       "    </tr>\n",
       "    <tr>\n",
       "      <th>1</th>\n",
       "      <td>0.114767</td>\n",
       "      <td>0.033665</td>\n",
       "      <td>0.232594</td>\n",
       "    </tr>\n",
       "  </tbody>\n",
       "</table>\n",
       "</div>"
      ],
      "text/plain": [
       "embarked         C         Q         S\n",
       "survived                              \n",
       "0         0.091813  0.060444  0.466718\n",
       "1         0.114767  0.033665  0.232594"
      ]
     },
     "execution_count": 48,
     "metadata": {},
     "output_type": "execute_result"
    }
   ],
   "source": [
    "pd.crosstab( df.survived,df.embarked, normalize=True)"
   ]
  },
  {
   "cell_type": "code",
   "execution_count": 34,
   "id": "f41d4649",
   "metadata": {},
   "outputs": [],
   "source": [
    "x = df.groupby('embarked')['survived'].value_counts(normalize = True).unstack()"
   ]
  },
  {
   "cell_type": "code",
   "execution_count": 35,
   "id": "a8673bba",
   "metadata": {},
   "outputs": [
    {
     "data": {
      "text/html": [
       "<div>\n",
       "<style scoped>\n",
       "    .dataframe tbody tr th:only-of-type {\n",
       "        vertical-align: middle;\n",
       "    }\n",
       "\n",
       "    .dataframe tbody tr th {\n",
       "        vertical-align: top;\n",
       "    }\n",
       "\n",
       "    .dataframe thead th {\n",
       "        text-align: right;\n",
       "    }\n",
       "</style>\n",
       "<table border=\"1\" class=\"dataframe\">\n",
       "  <thead>\n",
       "    <tr style=\"text-align: right;\">\n",
       "      <th>survived</th>\n",
       "      <th>0</th>\n",
       "      <th>1</th>\n",
       "    </tr>\n",
       "    <tr>\n",
       "      <th>embarked</th>\n",
       "      <th></th>\n",
       "      <th></th>\n",
       "    </tr>\n",
       "  </thead>\n",
       "  <tbody>\n",
       "    <tr>\n",
       "      <th>C</th>\n",
       "      <td>0.444444</td>\n",
       "      <td>0.555556</td>\n",
       "    </tr>\n",
       "    <tr>\n",
       "      <th>Q</th>\n",
       "      <td>0.642276</td>\n",
       "      <td>0.357724</td>\n",
       "    </tr>\n",
       "    <tr>\n",
       "      <th>S</th>\n",
       "      <td>0.667396</td>\n",
       "      <td>0.332604</td>\n",
       "    </tr>\n",
       "  </tbody>\n",
       "</table>\n",
       "</div>"
      ],
      "text/plain": [
       "survived         0         1\n",
       "embarked                    \n",
       "C         0.444444  0.555556\n",
       "Q         0.642276  0.357724\n",
       "S         0.667396  0.332604"
      ]
     },
     "execution_count": 35,
     "metadata": {},
     "output_type": "execute_result"
    }
   ],
   "source": [
    "x"
   ]
  },
  {
   "cell_type": "markdown",
   "id": "081b313b",
   "metadata": {},
   "source": [
    "## Kabina analiza"
   ]
  },
  {
   "cell_type": "code",
   "execution_count": null,
   "id": "cc0a2f34",
   "metadata": {},
   "outputs": [],
   "source": []
  },
  {
   "cell_type": "markdown",
   "id": "567eb710",
   "metadata": {},
   "source": [
    "## Poszukiwanie korelacji pomiedzy umieralnością a pozostałymi zmiennymi."
   ]
  },
  {
   "cell_type": "code",
   "execution_count": null,
   "id": "2f33ece2",
   "metadata": {},
   "outputs": [],
   "source": [
    "sns.heatmap(df.corr(), annot=True )"
   ]
  },
  {
   "cell_type": "code",
   "execution_count": null,
   "id": "26108242",
   "metadata": {},
   "outputs": [],
   "source": []
  }
 ],
 "metadata": {
  "kernelspec": {
   "display_name": "Python 3",
   "language": "python",
   "name": "python3"
  },
  "language_info": {
   "codemirror_mode": {
    "name": "ipython",
    "version": 3
   },
   "file_extension": ".py",
   "mimetype": "text/x-python",
   "name": "python",
   "nbconvert_exporter": "python",
   "pygments_lexer": "ipython3",
   "version": "3.8.8"
  },
  "varInspector": {
   "cols": {
    "lenName": 16,
    "lenType": 16,
    "lenVar": 40
   },
   "kernels_config": {
    "python": {
     "delete_cmd_postfix": "",
     "delete_cmd_prefix": "del ",
     "library": "var_list.py",
     "varRefreshCmd": "print(var_dic_list())"
    },
    "r": {
     "delete_cmd_postfix": ") ",
     "delete_cmd_prefix": "rm(",
     "library": "var_list.r",
     "varRefreshCmd": "cat(var_dic_list()) "
    }
   },
   "types_to_exclude": [
    "module",
    "function",
    "builtin_function_or_method",
    "instance",
    "_Feature"
   ],
   "window_display": false
  }
 },
 "nbformat": 4,
 "nbformat_minor": 5
}
